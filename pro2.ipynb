{
 "cells": [
  {
   "cell_type": "code",
   "execution_count": 11,
   "id": "bf35829c-e989-428c-91c3-f2f41879e92b",
   "metadata": {},
   "outputs": [
    {
     "name": "stdout",
     "output_type": "stream",
     "text": [
      "Type this sentence: He is a boy\n"
     ]
    },
    {
     "name": "stdin",
     "output_type": "stream",
     "text": [
      "Start:  He is a boy\n"
     ]
    },
    {
     "name": "stdout",
     "output_type": "stream",
     "text": [
      "He is a boy\n",
      "time taken: 3.05 seconds\n",
      "78.57 words per minute\n"
     ]
    }
   ],
   "source": [
    "import time\n",
    "print(\"Type this sentence: He is a boy\")\n",
    "st=time.time()\n",
    "y=input(\"Start: \")\n",
    "en=time.time()\n",
    "c=en-st\n",
    "m=round(c,2)\n",
    "z=y.split()\n",
    "v=len(z)\n",
    "print(y)\n",
    "wpm=round((v)/(c)*60,2)\n",
    "print(f\"time taken: {m} seconds\")\n",
    "print(f\"{wpm} words per minute\")"
   ]
  },
  {
   "cell_type": "code",
   "execution_count": null,
   "id": "1fbaec11-9bc1-4772-84d9-50bd4a74186b",
   "metadata": {},
   "outputs": [],
   "source": []
  }
 ],
 "metadata": {
  "kernelspec": {
   "display_name": "Python 3 (ipykernel)",
   "language": "python",
   "name": "python3"
  },
  "language_info": {
   "codemirror_mode": {
    "name": "ipython",
    "version": 3
   },
   "file_extension": ".py",
   "mimetype": "text/x-python",
   "name": "python",
   "nbconvert_exporter": "python",
   "pygments_lexer": "ipython3",
   "version": "3.13.3"
  }
 },
 "nbformat": 4,
 "nbformat_minor": 5
}
